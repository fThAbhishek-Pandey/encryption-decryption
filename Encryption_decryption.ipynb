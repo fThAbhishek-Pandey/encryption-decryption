{
  "nbformat": 4,
  "nbformat_minor": 0,
  "metadata": {
    "colab": {
      "provenance": [],
      "toc_visible": true,
      "authorship_tag": "ABX9TyP9W8fnyYEQtEpnsK/+LDDE",
      "include_colab_link": true
    },
    "kernelspec": {
      "name": "python3",
      "display_name": "Python 3"
    },
    "language_info": {
      "name": "python"
    }
  },
  "cells": [
    {
      "cell_type": "markdown",
      "metadata": {
        "id": "view-in-github",
        "colab_type": "text"
      },
      "source": [
        "<a href=\"https://colab.research.google.com/github/fThAbhishek-Pandey/encryption-decryption/blob/main/Encryption_decryption.ipynb\" target=\"_parent\"><img src=\"https://colab.research.google.com/assets/colab-badge.svg\" alt=\"Open In Colab\"/></a>"
      ]
    },
    {
      "cell_type": "markdown",
      "source": [
        "#Encription and Decryption"
      ],
      "metadata": {
        "id": "FqOzInwEQSiD"
      }
    },
    {
      "cell_type": "markdown",
      "source": [
        "##Disclaimer\n",
        "Disclaimer: The encryption and decryption program provided here is intended for educational purposes only. It is designed to illustrate fundamental concepts of cryptography and should not be used for any sensitive or production-level applications. The security of this program has not been rigorously tested and may contain vulnerabilities. Any use of this program in real-world scenarios is at the user's own risk. It is recommended to consult with cryptography experts and use well-established cryptographic libraries for secure implementations in practical situations.\n"
      ],
      "metadata": {
        "id": "GLXIOeunQ3Ws"
      }
    },
    {
      "cell_type": "markdown",
      "source": [
        "#Encryption"
      ],
      "metadata": {
        "id": "qfV3PleAf4Gu"
      }
    },
    {
      "cell_type": "markdown",
      "source": [
        "###import library"
      ],
      "metadata": {
        "id": "JtzR6DU8gC78"
      }
    },
    {
      "cell_type": "code",
      "source": [
        "from cryptography.fernet import Fernet as ft\n",
        "import os"
      ],
      "metadata": {
        "id": "cz34wlJhT4g7"
      },
      "execution_count": 3,
      "outputs": []
    },
    {
      "cell_type": "markdown",
      "source": [
        "###fetching file for incryption"
      ],
      "metadata": {
        "id": "KqeA1-toVGls"
      }
    },
    {
      "cell_type": "code",
      "execution_count": 11,
      "metadata": {
        "id": "x-mKN-aYLaZU",
        "colab": {
          "base_uri": "https://localhost:8080/"
        },
        "outputId": "36e5291e-ce72-42f2-c0f4-2f3e3b4bb8f3"
      },
      "outputs": [
        {
          "output_type": "stream",
          "name": "stdout",
          "text": [
            "['github-recovery-codes (3).txt', 'my self - Frame 13.jpg', 'Python Code.txt']\n"
          ]
        }
      ],
      "source": [
        "\n",
        "files=[]\n",
        "for file in os.listdir():\n",
        "  #skip the file itself\n",
        "  if file=='seckey.key':\n",
        "    continue;\n",
        "  if os.path.isfile(file):\n",
        "    files.append(file)\n",
        "print(files)\n",
        "\n",
        "key = ft.generate_key()"
      ]
    },
    {
      "cell_type": "markdown",
      "source": [
        "key"
      ],
      "metadata": {
        "id": "yErdDwbYVIo5"
      }
    },
    {
      "cell_type": "code",
      "source": [
        "key"
      ],
      "metadata": {
        "colab": {
          "base_uri": "https://localhost:8080/"
        },
        "id": "C1qGvI31VGER",
        "outputId": "0dfd56e1-f373-4c87-c6d4-0d31c2415e74"
      },
      "execution_count": 9,
      "outputs": [
        {
          "output_type": "execute_result",
          "data": {
            "text/plain": [
              "b'VD4egu6ReXqYfjPvvvJGHcpK6TgEAvVAOecFmpDLzWg='"
            ]
          },
          "metadata": {},
          "execution_count": 9
        }
      ]
    },
    {
      "cell_type": "markdown",
      "source": [
        "###encrypting code\n",
        "we create a key to encrypt the file ('github-recovery-codes (3).txt', 'my self - Frame 13.jpg', 'Python Code.txt'])"
      ],
      "metadata": {
        "id": "rEULan43VV2q"
      }
    },
    {
      "cell_type": "code",
      "source": [
        "with open(\"seckey.key\", \"wb\") as k:\n",
        "  k.write(key)"
      ],
      "metadata": {
        "id": "PmtUpQlYVWGr"
      },
      "execution_count": 10,
      "outputs": []
    },
    {
      "cell_type": "code",
      "source": [
        "for file in files :\n",
        "  with open(file,'rb') as thefile:\n",
        "    content = thefile.read()\n",
        "  encrypted_content= ft(key).encrypt(content)\n",
        "  with open(file,'wb') as thefile:\n",
        "    thefile.write(encrypted_content)"
      ],
      "metadata": {
        "id": "x1ID6BUVYGP1"
      },
      "execution_count": 21,
      "outputs": []
    },
    {
      "cell_type": "markdown",
      "source": [
        "#decryption"
      ],
      "metadata": {
        "id": "70K3I0uWaIKF"
      }
    },
    {
      "cell_type": "code",
      "source": [
        "files=[]\n",
        "for file in os.listdir():\n",
        "  #skip the file itself\n",
        "  if file=='seckey.key':\n",
        "    continue;\n",
        "  if os.path.isfile(file):\n",
        "    files.append(file)\n",
        "print(files)"
      ],
      "metadata": {
        "id": "kLTk-kQbaGmb"
      },
      "execution_count": null,
      "outputs": []
    },
    {
      "cell_type": "markdown",
      "source": [
        "#### open  secret file"
      ],
      "metadata": {
        "id": "Wm0h3xzWbN4T"
      }
    },
    {
      "cell_type": "code",
      "source": [
        "with open(\"seckey.key\", \"rb\") as k:\n",
        "  k.read()\n"
      ],
      "metadata": {
        "id": "DPBHGbBNbL4D"
      },
      "execution_count": 14,
      "outputs": []
    },
    {
      "cell_type": "markdown",
      "source": [
        "####Create a passcode"
      ],
      "metadata": {
        "id": "7a8Dtiz3fY46"
      }
    },
    {
      "cell_type": "code",
      "source": [
        "secret_phase =\"abhishek\"\n",
        "user_entry = input(\"Enter the secret code to decrypt your file \")"
      ],
      "metadata": {
        "colab": {
          "base_uri": "https://localhost:8080/"
        },
        "id": "0hCdcfaFbs4U",
        "outputId": "6f6406e2-a97d-493d-fba3-802948ab2071"
      },
      "execution_count": 16,
      "outputs": [
        {
          "name": "stdout",
          "output_type": "stream",
          "text": [
            "Enter the secret code to decrypt your file abhishek\n"
          ]
        }
      ]
    },
    {
      "cell_type": "markdown",
      "source": [
        "###decryption code"
      ],
      "metadata": {
        "id": "0skC7nnMgwXQ"
      }
    },
    {
      "cell_type": "code",
      "source": [
        "if user_entry==secret_phase:\n",
        "  #logic to decrypt the file\n",
        "  for file in files:\n",
        "    with open(file,'rb') as thefile:\n",
        "     content = thefile.read()\n",
        "     decrypted_content= ft(key).decrypt(content)\n",
        "    with open(file,'wb') as thefile:\n",
        "     thefile.write(decrypted_content)\n",
        "\n",
        "  print(\"Great file the decrypt\")\n",
        "else:\n",
        "  print (\"wrong-passcode , you are not a ethical user\")"
      ],
      "metadata": {
        "colab": {
          "base_uri": "https://localhost:8080/"
        },
        "id": "fCsHjdKMb9KW",
        "outputId": "10d6c7c2-fc4c-408a-e072-ab452847477c"
      },
      "execution_count": 22,
      "outputs": [
        {
          "output_type": "stream",
          "name": "stdout",
          "text": [
            "Great file the decrypt\n"
          ]
        }
      ]
    }
  ]
}